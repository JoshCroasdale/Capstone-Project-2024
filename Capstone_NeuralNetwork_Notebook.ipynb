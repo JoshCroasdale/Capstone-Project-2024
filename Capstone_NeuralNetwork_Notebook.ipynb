{
 "cells": [
  {
   "cell_type": "code",
   "execution_count": 1,
   "id": "6d2461fe-17ac-4b32-bef6-0946157b96d7",
   "metadata": {},
   "outputs": [],
   "source": [
    "import numpy as np\n",
    "import pandas as pd\n",
    "import matplotlib.pyplot as plt\n",
    "import tensorflow as tf\n",
    "from tensorflow.keras.models import Sequential\n",
    "from tensorflow.keras.layers import Dense\n",
    "from tensorflow.keras.metrics import MeanSquaredError\n",
    "from tensorflow.keras.callbacks import EarlyStopping"
   ]
  },
  {
   "cell_type": "code",
   "execution_count": 2,
   "id": "7a1906c8-ec0d-4649-9ab0-d6895f3daa27",
   "metadata": {},
   "outputs": [
    {
     "data": {
      "text/html": [
       "<div>\n",
       "<style scoped>\n",
       "    .dataframe tbody tr th:only-of-type {\n",
       "        vertical-align: middle;\n",
       "    }\n",
       "\n",
       "    .dataframe tbody tr th {\n",
       "        vertical-align: top;\n",
       "    }\n",
       "\n",
       "    .dataframe thead th {\n",
       "        text-align: right;\n",
       "    }\n",
       "</style>\n",
       "<table border=\"1\" class=\"dataframe\">\n",
       "  <thead>\n",
       "    <tr style=\"text-align: right;\">\n",
       "      <th></th>\n",
       "      <th>TOI/GP</th>\n",
       "      <th>G/60</th>\n",
       "      <th>A/60</th>\n",
       "      <th>G/GP</th>\n",
       "      <th>A/GP</th>\n",
       "      <th>PTS/GP</th>\n",
       "      <th>Shots/GP</th>\n",
       "      <th>PPG/GP</th>\n",
       "      <th>PPA/GP</th>\n",
       "      <th>EvnG/GP</th>\n",
       "      <th>EvnA/GP</th>\n",
       "    </tr>\n",
       "    <tr>\n",
       "      <th>Player</th>\n",
       "      <th></th>\n",
       "      <th></th>\n",
       "      <th></th>\n",
       "      <th></th>\n",
       "      <th></th>\n",
       "      <th></th>\n",
       "      <th></th>\n",
       "      <th></th>\n",
       "      <th></th>\n",
       "      <th></th>\n",
       "      <th></th>\n",
       "    </tr>\n",
       "  </thead>\n",
       "  <tbody>\n",
       "    <tr>\n",
       "      <th>A.J. Greer</th>\n",
       "      <td>8.50</td>\n",
       "      <td>0.58</td>\n",
       "      <td>0.82</td>\n",
       "      <td>0.08</td>\n",
       "      <td>0.12</td>\n",
       "      <td>0.20</td>\n",
       "      <td>0.95</td>\n",
       "      <td>0.01</td>\n",
       "      <td>0.00</td>\n",
       "      <td>0.07</td>\n",
       "      <td>0.12</td>\n",
       "    </tr>\n",
       "    <tr>\n",
       "      <th>Aaron Downey</th>\n",
       "      <td>5.02</td>\n",
       "      <td>0.40</td>\n",
       "      <td>0.70</td>\n",
       "      <td>0.03</td>\n",
       "      <td>0.06</td>\n",
       "      <td>0.09</td>\n",
       "      <td>0.39</td>\n",
       "      <td>0.00</td>\n",
       "      <td>0.00</td>\n",
       "      <td>0.03</td>\n",
       "      <td>0.06</td>\n",
       "    </tr>\n",
       "    <tr>\n",
       "      <th>Aaron Ekblad</th>\n",
       "      <td>22.86</td>\n",
       "      <td>0.45</td>\n",
       "      <td>0.90</td>\n",
       "      <td>0.17</td>\n",
       "      <td>0.34</td>\n",
       "      <td>0.51</td>\n",
       "      <td>2.50</td>\n",
       "      <td>0.06</td>\n",
       "      <td>0.10</td>\n",
       "      <td>0.11</td>\n",
       "      <td>0.23</td>\n",
       "    </tr>\n",
       "    <tr>\n",
       "      <th>Aaron Gagnon</th>\n",
       "      <td>8.05</td>\n",
       "      <td>0.00</td>\n",
       "      <td>0.78</td>\n",
       "      <td>0.00</td>\n",
       "      <td>0.11</td>\n",
       "      <td>0.11</td>\n",
       "      <td>0.47</td>\n",
       "      <td>0.00</td>\n",
       "      <td>0.00</td>\n",
       "      <td>0.00</td>\n",
       "      <td>0.11</td>\n",
       "    </tr>\n",
       "    <tr>\n",
       "      <th>Aaron Johnson</th>\n",
       "      <td>14.54</td>\n",
       "      <td>0.25</td>\n",
       "      <td>0.64</td>\n",
       "      <td>0.06</td>\n",
       "      <td>0.15</td>\n",
       "      <td>0.21</td>\n",
       "      <td>0.88</td>\n",
       "      <td>0.01</td>\n",
       "      <td>0.02</td>\n",
       "      <td>0.05</td>\n",
       "      <td>0.13</td>\n",
       "    </tr>\n",
       "    <tr>\n",
       "      <th>...</th>\n",
       "      <td>...</td>\n",
       "      <td>...</td>\n",
       "      <td>...</td>\n",
       "      <td>...</td>\n",
       "      <td>...</td>\n",
       "      <td>...</td>\n",
       "      <td>...</td>\n",
       "      <td>...</td>\n",
       "      <td>...</td>\n",
       "      <td>...</td>\n",
       "      <td>...</td>\n",
       "    </tr>\n",
       "    <tr>\n",
       "      <th>Éric Gélinas</th>\n",
       "      <td>15.35</td>\n",
       "      <td>0.29</td>\n",
       "      <td>0.85</td>\n",
       "      <td>0.07</td>\n",
       "      <td>0.22</td>\n",
       "      <td>0.29</td>\n",
       "      <td>1.70</td>\n",
       "      <td>0.05</td>\n",
       "      <td>0.11</td>\n",
       "      <td>0.03</td>\n",
       "      <td>0.11</td>\n",
       "    </tr>\n",
       "    <tr>\n",
       "      <th>Éric Perrin</th>\n",
       "      <td>16.37</td>\n",
       "      <td>0.49</td>\n",
       "      <td>1.10</td>\n",
       "      <td>0.13</td>\n",
       "      <td>0.30</td>\n",
       "      <td>0.43</td>\n",
       "      <td>1.58</td>\n",
       "      <td>0.02</td>\n",
       "      <td>0.04</td>\n",
       "      <td>0.10</td>\n",
       "      <td>0.20</td>\n",
       "    </tr>\n",
       "    <tr>\n",
       "      <th>Ľubomír Višňovský</th>\n",
       "      <td>22.59</td>\n",
       "      <td>0.44</td>\n",
       "      <td>1.21</td>\n",
       "      <td>0.16</td>\n",
       "      <td>0.46</td>\n",
       "      <td>0.62</td>\n",
       "      <td>1.84</td>\n",
       "      <td>0.07</td>\n",
       "      <td>0.25</td>\n",
       "      <td>0.10</td>\n",
       "      <td>0.20</td>\n",
       "    </tr>\n",
       "    <tr>\n",
       "      <th>Štefan Ružička</th>\n",
       "      <td>12.72</td>\n",
       "      <td>0.35</td>\n",
       "      <td>1.18</td>\n",
       "      <td>0.08</td>\n",
       "      <td>0.25</td>\n",
       "      <td>0.32</td>\n",
       "      <td>1.88</td>\n",
       "      <td>0.02</td>\n",
       "      <td>0.08</td>\n",
       "      <td>0.05</td>\n",
       "      <td>0.18</td>\n",
       "    </tr>\n",
       "    <tr>\n",
       "      <th>Žigmund Pálffy</th>\n",
       "      <td>19.33</td>\n",
       "      <td>0.81</td>\n",
       "      <td>2.29</td>\n",
       "      <td>0.26</td>\n",
       "      <td>0.74</td>\n",
       "      <td>1.00</td>\n",
       "      <td>2.67</td>\n",
       "      <td>0.05</td>\n",
       "      <td>0.21</td>\n",
       "      <td>0.21</td>\n",
       "      <td>0.52</td>\n",
       "    </tr>\n",
       "  </tbody>\n",
       "</table>\n",
       "<p>2467 rows × 11 columns</p>\n",
       "</div>"
      ],
      "text/plain": [
       "                   TOI/GP  G/60  A/60  G/GP  A/GP  PTS/GP  Shots/GP  PPG/GP  \\\n",
       "Player                                                                        \n",
       "A.J. Greer           8.50  0.58  0.82  0.08  0.12    0.20      0.95    0.01   \n",
       "Aaron Downey         5.02  0.40  0.70  0.03  0.06    0.09      0.39    0.00   \n",
       "Aaron Ekblad        22.86  0.45  0.90  0.17  0.34    0.51      2.50    0.06   \n",
       "Aaron Gagnon         8.05  0.00  0.78  0.00  0.11    0.11      0.47    0.00   \n",
       "Aaron Johnson       14.54  0.25  0.64  0.06  0.15    0.21      0.88    0.01   \n",
       "...                   ...   ...   ...   ...   ...     ...       ...     ...   \n",
       "Éric Gélinas        15.35  0.29  0.85  0.07  0.22    0.29      1.70    0.05   \n",
       "Éric Perrin         16.37  0.49  1.10  0.13  0.30    0.43      1.58    0.02   \n",
       "Ľubomír Višňovský   22.59  0.44  1.21  0.16  0.46    0.62      1.84    0.07   \n",
       "Štefan Ružička      12.72  0.35  1.18  0.08  0.25    0.32      1.88    0.02   \n",
       "Žigmund Pálffy      19.33  0.81  2.29  0.26  0.74    1.00      2.67    0.05   \n",
       "\n",
       "                   PPA/GP  EvnG/GP  EvnA/GP  \n",
       "Player                                       \n",
       "A.J. Greer           0.00     0.07     0.12  \n",
       "Aaron Downey         0.00     0.03     0.06  \n",
       "Aaron Ekblad         0.10     0.11     0.23  \n",
       "Aaron Gagnon         0.00     0.00     0.11  \n",
       "Aaron Johnson        0.02     0.05     0.13  \n",
       "...                   ...      ...      ...  \n",
       "Éric Gélinas         0.11     0.03     0.11  \n",
       "Éric Perrin          0.04     0.10     0.20  \n",
       "Ľubomír Višňovský    0.25     0.10     0.20  \n",
       "Štefan Ružička       0.08     0.05     0.18  \n",
       "Žigmund Pálffy       0.21     0.21     0.52  \n",
       "\n",
       "[2467 rows x 11 columns]"
      ]
     },
     "execution_count": 2,
     "metadata": {},
     "output_type": "execute_result"
    }
   ],
   "source": [
    "# Read in nhl_career_per_game df from main Capstone Notebook\n",
    "nhl_career_per_game = pd.read_csv(\"C:/Users/joshm/Documents/BrainStation/nhl_career_per_game.csv\", index_col=0)\n",
    "nhl_career_per_game"
   ]
  },
  {
   "cell_type": "code",
   "execution_count": 3,
   "id": "56676337-0928-4894-82b1-9b43fcbd93d6",
   "metadata": {},
   "outputs": [],
   "source": [
    "# importing necessary libraries and assigning train/test split\n",
    "from sklearn.model_selection import train_test_split\n",
    "from sklearn.preprocessing import StandardScaler\n",
    "from sklearn.decomposition import PCA\n",
    "\n",
    "# allocating X and y variables\n",
    "y = nhl_career_per_game['G/GP']\n",
    "X = nhl_career_per_game.drop(columns=['G/GP']) # every column except 'G'\n",
    "\n",
    "# Split the data into train &  test\n",
    "X_train, X_test, y_train, y_test = train_test_split(X, y, test_size=0.3, random_state=2)"
   ]
  },
  {
   "cell_type": "code",
   "execution_count": 4,
   "id": "88725c8c-2ae3-4f9b-95e1-0ab602cb0ae8",
   "metadata": {},
   "outputs": [],
   "source": [
    "# Instantiate a Feed Forward neural network\n",
    "nhl_nn_model = Sequential()\n",
    "\n",
    "# dense layers\n",
    "nhl_nn_model.add(tf.keras.layers.InputLayer(input_shape=(X_train.shape[1],)))\n",
    "nhl_nn_model.add(Dense(40, activation='relu'))\n",
    "nhl_nn_model.add(Dense(30, activation='relu'))\n",
    "nhl_nn_model.add(Dense(20, activation='relu'))\n",
    "nhl_nn_model.add(Dense(10, activation='relu'))\n",
    "\n",
    "# Single node output as this is regression\n",
    "nhl_nn_model.add(Dense(1)) # Default activation is linear, no need to define any activation function here\n",
    "\n",
    "# Compile the model\n",
    "nhl_nn_model.compile(optimizer=tf.keras.optimizers.Adam(),\n",
    "             loss=tf.keras.losses.MeanSquaredError(), # MSE loss function\n",
    "             metrics=[MeanSquaredError()]) # MSE evaluation metric"
   ]
  },
  {
   "cell_type": "code",
   "execution_count": 5,
   "id": "4a157a34-3ea1-425f-9d42-c29e2d4cf5f2",
   "metadata": {},
   "outputs": [],
   "source": [
    "# empty list to accept loss values over epochs\n",
    "mse_list = []"
   ]
  },
  {
   "cell_type": "code",
   "execution_count": 6,
   "id": "247c39c3-e5c6-4cb6-b0c2-a4c616ed39c7",
   "metadata": {
    "scrolled": true
   },
   "outputs": [
    {
     "name": "stdout",
     "output_type": "stream",
     "text": [
      "Epoch 1/50\n",
      "54/54 [==============================] - 1s 2ms/step - loss: 0.0082 - mean_squared_error: 0.0082\n",
      "Epoch 2/50\n",
      "54/54 [==============================] - 0s 2ms/step - loss: 0.0011 - mean_squared_error: 0.0011\n",
      "Epoch 3/50\n",
      "54/54 [==============================] - 0s 2ms/step - loss: 8.3510e-04 - mean_squared_error: 8.3510e-04\n",
      "Epoch 4/50\n",
      "54/54 [==============================] - 0s 2ms/step - loss: 5.7995e-04 - mean_squared_error: 5.7995e-04\n",
      "Epoch 5/50\n",
      "54/54 [==============================] - 0s 2ms/step - loss: 4.3233e-04 - mean_squared_error: 4.3233e-04\n",
      "Epoch 6/50\n",
      "54/54 [==============================] - 0s 2ms/step - loss: 3.8867e-04 - mean_squared_error: 3.8867e-04\n",
      "Epoch 7/50\n",
      "54/54 [==============================] - 0s 2ms/step - loss: 2.9678e-04 - mean_squared_error: 2.9678e-04\n",
      "Epoch 8/50\n",
      "54/54 [==============================] - 0s 2ms/step - loss: 3.1380e-04 - mean_squared_error: 3.1380e-04\n",
      "Epoch 9/50\n",
      "54/54 [==============================] - 0s 2ms/step - loss: 2.6259e-04 - mean_squared_error: 2.6259e-04\n",
      "Epoch 10/50\n",
      "54/54 [==============================] - 0s 2ms/step - loss: 2.4249e-04 - mean_squared_error: 2.4249e-04\n",
      "Epoch 11/50\n",
      "54/54 [==============================] - 0s 2ms/step - loss: 2.9746e-04 - mean_squared_error: 2.9746e-04\n",
      "Epoch 12/50\n",
      "54/54 [==============================] - 0s 2ms/step - loss: 2.6849e-04 - mean_squared_error: 2.6849e-04\n",
      "Epoch 13/50\n",
      "54/54 [==============================] - 0s 2ms/step - loss: 3.2953e-04 - mean_squared_error: 3.2953e-04\n",
      "Epoch 14/50\n",
      "54/54 [==============================] - 0s 2ms/step - loss: 2.1218e-04 - mean_squared_error: 2.1218e-04\n",
      "Epoch 15/50\n",
      "54/54 [==============================] - 0s 2ms/step - loss: 2.3027e-04 - mean_squared_error: 2.3027e-04\n",
      "Epoch 16/50\n",
      "54/54 [==============================] - 0s 2ms/step - loss: 2.0411e-04 - mean_squared_error: 2.0411e-04\n",
      "Epoch 17/50\n",
      "54/54 [==============================] - 0s 2ms/step - loss: 2.1263e-04 - mean_squared_error: 2.1263e-04\n",
      "Epoch 18/50\n",
      "54/54 [==============================] - 0s 2ms/step - loss: 2.3685e-04 - mean_squared_error: 2.3685e-04\n",
      "Epoch 19/50\n",
      "54/54 [==============================] - 0s 2ms/step - loss: 1.7438e-04 - mean_squared_error: 1.7438e-04\n",
      "Epoch 20/50\n",
      "54/54 [==============================] - 0s 2ms/step - loss: 1.7685e-04 - mean_squared_error: 1.7685e-04\n",
      "Epoch 21/50\n",
      "54/54 [==============================] - 0s 2ms/step - loss: 1.8873e-04 - mean_squared_error: 1.8873e-04\n",
      "Epoch 22/50\n",
      "54/54 [==============================] - 0s 2ms/step - loss: 1.6426e-04 - mean_squared_error: 1.6426e-04\n",
      "Epoch 23/50\n",
      "54/54 [==============================] - 0s 2ms/step - loss: 1.8312e-04 - mean_squared_error: 1.8312e-04\n",
      "Epoch 24/50\n",
      "54/54 [==============================] - 0s 2ms/step - loss: 1.3410e-04 - mean_squared_error: 1.3410e-04\n",
      "Epoch 25/50\n",
      "54/54 [==============================] - 0s 2ms/step - loss: 1.4566e-04 - mean_squared_error: 1.4566e-04\n",
      "Epoch 26/50\n",
      "54/54 [==============================] - 0s 2ms/step - loss: 1.6990e-04 - mean_squared_error: 1.6990e-04\n",
      "Epoch 27/50\n",
      "54/54 [==============================] - 0s 2ms/step - loss: 1.1238e-04 - mean_squared_error: 1.1238e-04\n",
      "Epoch 28/50\n",
      "54/54 [==============================] - 0s 2ms/step - loss: 1.3235e-04 - mean_squared_error: 1.3235e-04\n",
      "Epoch 29/50\n",
      "54/54 [==============================] - 0s 2ms/step - loss: 1.5064e-04 - mean_squared_error: 1.5064e-04\n",
      "Epoch 30/50\n",
      "54/54 [==============================] - 0s 2ms/step - loss: 1.4551e-04 - mean_squared_error: 1.4551e-04\n",
      "Epoch 31/50\n",
      "54/54 [==============================] - 0s 2ms/step - loss: 1.1461e-04 - mean_squared_error: 1.1461e-04\n",
      "Epoch 32/50\n",
      "54/54 [==============================] - 0s 2ms/step - loss: 1.0258e-04 - mean_squared_error: 1.0258e-04\n",
      "Epoch 33/50\n",
      "54/54 [==============================] - 0s 2ms/step - loss: 1.1202e-04 - mean_squared_error: 1.1202e-04\n",
      "Epoch 34/50\n",
      "54/54 [==============================] - 0s 2ms/step - loss: 1.3548e-04 - mean_squared_error: 1.3548e-04\n",
      "Epoch 35/50\n",
      "54/54 [==============================] - 0s 2ms/step - loss: 1.1055e-04 - mean_squared_error: 1.1055e-04\n",
      "Epoch 36/50\n",
      "54/54 [==============================] - 0s 2ms/step - loss: 1.4275e-04 - mean_squared_error: 1.4275e-04\n",
      "Epoch 37/50\n",
      "54/54 [==============================] - 0s 2ms/step - loss: 1.2643e-04 - mean_squared_error: 1.2643e-04\n",
      "Epoch 38/50\n",
      "54/54 [==============================] - 0s 2ms/step - loss: 1.0948e-04 - mean_squared_error: 1.0948e-04\n",
      "Epoch 39/50\n",
      "54/54 [==============================] - 0s 2ms/step - loss: 1.1477e-04 - mean_squared_error: 1.1477e-04\n",
      "Epoch 40/50\n",
      "54/54 [==============================] - 0s 2ms/step - loss: 1.2038e-04 - mean_squared_error: 1.2038e-04\n",
      "Epoch 41/50\n",
      "54/54 [==============================] - 0s 2ms/step - loss: 1.4370e-04 - mean_squared_error: 1.4370e-04\n",
      "Epoch 42/50\n",
      "54/54 [==============================] - 0s 2ms/step - loss: 1.0553e-04 - mean_squared_error: 1.0553e-04\n",
      "Epoch 43/50\n",
      "54/54 [==============================] - 0s 2ms/step - loss: 9.6541e-05 - mean_squared_error: 9.6541e-05\n",
      "Epoch 44/50\n",
      "54/54 [==============================] - 0s 2ms/step - loss: 1.6835e-04 - mean_squared_error: 1.6835e-04\n",
      "Epoch 45/50\n",
      "54/54 [==============================] - 0s 2ms/step - loss: 1.1735e-04 - mean_squared_error: 1.1735e-04\n",
      "Epoch 46/50\n",
      "54/54 [==============================] - 0s 2ms/step - loss: 9.0884e-05 - mean_squared_error: 9.0884e-05\n",
      "Epoch 47/50\n",
      "54/54 [==============================] - 0s 2ms/step - loss: 1.0962e-04 - mean_squared_error: 1.0962e-04\n",
      "Epoch 48/50\n",
      "54/54 [==============================] - 0s 2ms/step - loss: 9.1624e-05 - mean_squared_error: 9.1624e-05\n",
      "Epoch 49/50\n",
      "54/54 [==============================] - 0s 2ms/step - loss: 8.7540e-05 - mean_squared_error: 8.7540e-05\n",
      "Epoch 50/50\n",
      "54/54 [==============================] - 0s 2ms/step - loss: 9.1896e-05 - mean_squared_error: 9.1896e-05\n",
      "24/24 [==============================] - 0s 1ms/step\n"
     ]
    }
   ],
   "source": [
    "# Training for 50 epochs\n",
    "history = nhl_nn_model.fit(X_train, y_train, epochs=50, verbose=True)\n",
    "\n",
    "# Grab the prediction data\n",
    "y_pred = nhl_nn_model.predict(X_test)\n",
    "\n",
    "# append loss values to list\n",
    "mse_list = mse_list + history.history['mean_squared_error']"
   ]
  },
  {
   "cell_type": "code",
   "execution_count": null,
   "id": "9319b01c-1636-4885-a2e5-d508df2ed6fb",
   "metadata": {},
   "outputs": [],
   "source": [
    "plt.plot(history.history['loss'])\n",
    "plt.plot(history.history['val_loss'])\n",
    "plt.title('Model Loss')\n",
    "plt.ylabel('Loss')\n",
    "plt.xlabel('Epoch')\n",
    "plt.legend(['Train', 'Validation'])\n",
    "plt.show()"
   ]
  },
  {
   "cell_type": "code",
   "execution_count": 7,
   "id": "59cd438f-711d-4331-8a77-90f3b201cc8b",
   "metadata": {},
   "outputs": [
    {
     "name": "stdout",
     "output_type": "stream",
     "text": [
      "Train Loss: 0.0001\n"
     ]
    },
    {
     "ename": "TypeError",
     "evalue": "unsupported format string passed to list.__format__",
     "output_type": "error",
     "traceback": [
      "\u001b[1;31m---------------------------------------------------------------------------\u001b[0m",
      "\u001b[1;31mTypeError\u001b[0m                                 Traceback (most recent call last)",
      "Cell \u001b[1;32mIn[7], line 6\u001b[0m\n\u001b[0;32m      3\u001b[0m result \u001b[38;5;241m=\u001b[39m nhl_nn_model\u001b[38;5;241m.\u001b[39mevaluate(X_test, y_test, verbose\u001b[38;5;241m=\u001b[39m\u001b[38;5;241m0\u001b[39m)\n\u001b[0;32m      5\u001b[0m \u001b[38;5;28mprint\u001b[39m(\u001b[38;5;124mf\u001b[39m\u001b[38;5;124m\"\u001b[39m\u001b[38;5;124mTrain Loss: \u001b[39m\u001b[38;5;132;01m{\u001b[39;00mtrain_loss\u001b[38;5;132;01m:\u001b[39;00m\u001b[38;5;124m.4f\u001b[39m\u001b[38;5;132;01m}\u001b[39;00m\u001b[38;5;124m\"\u001b[39m)\n\u001b[1;32m----> 6\u001b[0m \u001b[38;5;28mprint\u001b[39m(\u001b[38;5;124mf\u001b[39m\u001b[38;5;124m\"\u001b[39m\u001b[38;5;124mTest Loss: \u001b[39m\u001b[38;5;132;01m{\u001b[39;00mresult\u001b[38;5;132;01m:\u001b[39;00m\u001b[38;5;124m.4f\u001b[39m\u001b[38;5;132;01m}\u001b[39;00m\u001b[38;5;124m\"\u001b[39m)\n\u001b[0;32m      8\u001b[0m y_pred \u001b[38;5;241m=\u001b[39m nhl_nn_model\u001b[38;5;241m.\u001b[39mpredict(X_test)\n",
      "\u001b[1;31mTypeError\u001b[0m: unsupported format string passed to list.__format__"
     ]
    }
   ],
   "source": [
    "# Evaluate the model using the test data and generate predictions\n",
    "train_loss = history.history[\"loss\"][-1]\n",
    "result = nhl_nn_model.evaluate(X_test, y_test, verbose=0)\n",
    "\n",
    "print(f\"Train Loss: {train_loss:.4f}\")\n",
    "print(f\"Test Loss: {result:.4f}\")\n",
    "\n",
    "y_pred = nhl_nn_model.predict(X_test)"
   ]
  },
  {
   "cell_type": "code",
   "execution_count": 8,
   "id": "35e792c2-4691-41ea-9555-ebd8b7886f6f",
   "metadata": {},
   "outputs": [
    {
     "data": {
      "text/plain": [
       "50"
      ]
     },
     "execution_count": 8,
     "metadata": {},
     "output_type": "execute_result"
    }
   ],
   "source": [
    "len(mse_list)"
   ]
  },
  {
   "cell_type": "code",
   "execution_count": 9,
   "id": "0b06087c-a128-4169-8676-b5885bb9c1b1",
   "metadata": {},
   "outputs": [
    {
     "data": {
      "image/png": "[encoded data removed]",
      "text/plain": [
       "<Figure size 1000x600 with 1 Axes>"
      ]
     },
     "metadata": {},
     "output_type": "display_data"
    }
   ],
   "source": [
    "mse_values = [...]  # Replace [...] with your actual MSE values\n",
    "\n",
    "# Generate epochs (assuming starting from epoch 1)\n",
    "epochs = range(1, len(mse_list) + 1)\n",
    "\n",
    "# Plot the MSE values\n",
    "plt.figure(figsize=(10, 6))\n",
    "plt.plot(epochs, mse_list, marker='o', linestyle='-')\n",
    "plt.xlabel('Epochs')\n",
    "plt.ylabel('Mean Squared Error')\n",
    "plt.title('Mean Squared Error vs. Epochs')\n",
    "plt.grid(True)\n",
    "plt.show()"
   ]
  },
  {
   "cell_type": "code",
   "execution_count": 10,
   "id": "cee8e1eb-5fc5-45c7-ac5b-141b85a7b558",
   "metadata": {},
   "outputs": [
    {
     "name": "stdout",
     "output_type": "stream",
     "text": [
      "24/24 [==============================] - 0s 1ms/step - loss: 6.7403e-05 - mean_squared_error: 6.7403e-05\n"
     ]
    },
    {
     "data": {
      "text/plain": [
       "[6.740293611073866e-05, 6.740293611073866e-05]"
      ]
     },
     "execution_count": 10,
     "metadata": {},
     "output_type": "execute_result"
    }
   ],
   "source": [
    "nhl_nn_model.evaluate(X_test, y_test)"
   ]
  },
  {
   "cell_type": "code",
   "execution_count": null,
   "id": "5bd3d6e0-8249-43d5-8272-82f5465124bf",
   "metadata": {},
   "outputs": [],
   "source": [
    "type(y_train)"
   ]
  },
  {
   "cell_type": "code",
   "execution_count": null,
   "id": "1bd3156e-ce41-4b69-930d-eea45f1bf064",
   "metadata": {},
   "outputs": [],
   "source": [
    "type(X_train)"
   ]
  },
  {
   "cell_type": "code",
   "execution_count": null,
   "id": "93005640-adae-4b7a-8607-5716951debe2",
   "metadata": {},
   "outputs": [],
   "source": [
    "# converting X_train into a numpy array for fitting the NN model\n",
    "X_train_array = X_train.values\n",
    "type(X_train_array)"
   ]
  },
  {
   "cell_type": "code",
   "execution_count": null,
   "id": "5800582d-bb66-401b-8d73-8f661b7d7267",
   "metadata": {},
   "outputs": [],
   "source": [
    "y_pred.shape"
   ]
  },
  {
   "cell_type": "code",
   "execution_count": null,
   "id": "e35c02f9-98b5-4a00-804e-faa783127f4e",
   "metadata": {
    "scrolled": true
   },
   "outputs": [],
   "source": [
    "# Plotting target feature vs independent features - Actual vs Predicted\n",
    "for col in X_train.columns:\n",
    "    # Plot actual vs. predicted values for each feature\n",
    "    plt.figure()\n",
    "    plt.scatter(X_train[col], y_train, label='actual', c=\"cornflowerblue\")  # Plot the actual data\n",
    "    plt.scatter(X_test[col], y_pred, s=3, color='r', label='predicted')  # Plot the predicted values\n",
    "    plt.legend()\n",
    "    plt.xlabel(col)\n",
    "    plt.ylabel('Goals per Game')\n",
    "    plt.title(f'Curve fitting after 50 epochs')\n",
    "    plt.show()\n",
    "\n",
    "# Error for the one epoch\n",
    "print('Mean Squared Error (MSE) for 50 epochs: ', mse_list[-1])"
   ]
  },
  {
   "cell_type": "code",
   "execution_count": null,
   "id": "bbab5621-f48b-4597-9f6b-c6cb4bff1108",
   "metadata": {},
   "outputs": [],
   "source": [
    "X_test.shape"
   ]
  },
  {
   "cell_type": "code",
   "execution_count": null,
   "id": "099df895-a29f-4d91-a02e-df1546500565",
   "metadata": {},
   "outputs": [],
   "source": [
    "y_pred.shape"
   ]
  },
  {
   "cell_type": "code",
   "execution_count": null,
   "id": "bfee1715-5c75-4bc4-a6ee-206a22aba7e9",
   "metadata": {},
   "outputs": [],
   "source": [
    "X_train_array.shape"
   ]
  },
  {
   "cell_type": "code",
   "execution_count": null,
   "id": "cf3289a4-20e0-454e-a556-800c404e052a",
   "metadata": {},
   "outputs": [],
   "source": [
    "X_test['TOI/GP']"
   ]
  },
  {
   "cell_type": "code",
   "execution_count": null,
   "id": "5ce8aa55-c95b-491e-a09d-f52b7c9accf9",
   "metadata": {},
   "outputs": [],
   "source": [
    "y_pred.shape"
   ]
  },
  {
   "cell_type": "code",
   "execution_count": null,
   "id": "78df1a83-15d7-43b7-9fa4-0d53b8a7f759",
   "metadata": {},
   "outputs": [],
   "source": [
    "X_test.columns"
   ]
  },
  {
   "cell_type": "code",
   "execution_count": null,
   "id": "8bbe9fef-c285-47af-88f7-63d84037acfa",
   "metadata": {
    "scrolled": true
   },
   "outputs": [],
   "source": [
    "# Plot\n",
    "for col in X_test.columns:\n",
    "    plt.subplots(1,2, figsize=(15,5))\n",
    "    \n",
    "    plt.subplot(1,2,1)\n",
    "    plt.scatter(X_train[col], y_train, label='actual', c=\"cornflowerblue\") # Plot the actual data\n",
    "    plt.scatter(X_test[col], y_pred, s=3, color='r', label='predicted') # Plot the predictions\n",
    "    plt.legend()\n",
    "    plt.xlabel(col)\n",
    "    plt.ylabel('G/GP')\n",
    "    plt.title(\"Curve fitting after 51 epochs - 'polynomial'\")\n",
    "    \n",
    "    # Error for each epoch\n",
    "    plt.subplot(1,2,2)\n",
    "    plt.plot(mse_list, c='orange')\n",
    "    plt.title('Model error')\n",
    "    plt.xlabel('epoch')\n",
    "    plt.ylabel('Mean Squared Error (MSE)')\n",
    "    \n",
    "    # Show\n",
    "    plt.show()\n",
    "    \n",
    "    # Error for the one epoch\n",
    "    print('Mean Squared Error (MAE) after 51 epochs: ', history.history['mean_squared_error'][-1])"
   ]
  },
  {
   "cell_type": "markdown",
   "id": "7d4036e5-3248-4acd-be74-9700ee28d772",
   "metadata": {},
   "source": [
    "#### Visualizing Predicted vs Actual for test set"
   ]
  },
  {
   "cell_type": "code",
   "execution_count": null,
   "id": "b3db0524-f57a-40c6-b33f-458ba208c01f",
   "metadata": {},
   "outputs": [],
   "source": [
    "# Plot y_pred vs y_test\n",
    "plt.figure(figsize=(8, 6))\n",
    "plt.scatter(y_test, y_pred, color='blue', label='Actual vs Predicted Values')\n",
    "plt.plot([y_test.min(), y_test.max()], [y_test.min(), y_test.max()], color='red', linestyle='--', label='Line of Equality')\n",
    "plt.xlabel('Actual Values (y_test)')\n",
    "plt.ylabel('Predicted Values (y_pred)')\n",
    "plt.title('Actual vs Predicted Values')\n",
    "plt.legend()\n",
    "plt.grid(True)\n",
    "plt.show()"
   ]
  },
  {
   "cell_type": "markdown",
   "id": "38e018bc-1b60-4d6c-af5a-60a592c50512",
   "metadata": {},
   "source": [
    "Plotly/plotly.graph_objects is not working in this environment. Moving along for now"
   ]
  },
  {
   "cell_type": "code",
   "execution_count": null,
   "id": "75a3d6b5-afa8-43ae-9e60-5816ee85410f",
   "metadata": {},
   "outputs": [],
   "source": [
    "# # Create a DataFrame with y_test and y_pred\n",
    "# import plotly.express as px \n",
    "# import plotly.graph_objects as go\n",
    "# df = pd.DataFrame({'actual goals/game': y_test, 'predicted goals/game': y_pred})\n",
    "\n",
    "# # Plot y_test vs y_pred\n",
    "# fig = px.scatter(df, x='actual goals/game', y='predicted goals/game', title='Actual vs Predicted Values', height=900, hover_name=y_test.index)\n",
    "# fig.add_trace(go.Scatter(x=[df['actual goals/game'].min(), df['actual goals/game'].max()], y=[df['actual goals/game'].min(), df['actual goals/game'].max()], mode='lines', name='Perfect Prediction'))\n",
    "# fig.show()"
   ]
  },
  {
   "cell_type": "code",
   "execution_count": null,
   "id": "1837ba05-12a8-43c9-8152-54907129f05b",
   "metadata": {},
   "outputs": [],
   "source": [
    "y_pred = np.reshape(y_pred, (741,))\n",
    "y_pred.shape"
   ]
  },
  {
   "cell_type": "code",
   "execution_count": null,
   "id": "db1c093b-d55a-4b10-9cc1-8277990c7b98",
   "metadata": {},
   "outputs": [],
   "source": [
    "# y_pred must have shape (741,)\n",
    "df = pd.DataFrame({'actual goals/game': y_test, 'predicted goals/game': y_pred})\n",
    "df"
   ]
  },
  {
   "cell_type": "code",
   "execution_count": null,
   "id": "cb462dd2-04dc-498f-8f4d-942d62b9bc82",
   "metadata": {},
   "outputs": [],
   "source": [
    "# Creating a table including Difference between Predicted and Actual \n",
    "\n",
    "df['Actual Goals'] = round((df['actual goals/game'] * 82), 2)\n",
    "df['Predicted Goals'] = round((df['predicted goals/game'] * 82), 2)\n",
    "df['Difference(Actual - Predicted)'] = df['Actual Goals'] - df['Predicted Goals']\n",
    "df.sort_values(by='Predicted Goals', ascending=False).head(20)"
   ]
  },
  {
   "cell_type": "markdown",
   "id": "27c7e16d-4ce8-4882-8254-73de10dda0e3",
   "metadata": {},
   "source": [
    "#### Next I want to run predictions on the entire dataset and visualize"
   ]
  },
  {
   "cell_type": "code",
   "execution_count": null,
   "id": "1aaf600b-a982-441f-8b83-86e00058ca30",
   "metadata": {},
   "outputs": [],
   "source": [
    "y"
   ]
  },
  {
   "cell_type": "code",
   "execution_count": null,
   "id": "e6726e5f-66c5-47b0-87cc-96aa9fec36a6",
   "metadata": {},
   "outputs": [],
   "source": [
    "y_pred_whole"
   ]
  },
  {
   "cell_type": "code",
   "execution_count": null,
   "id": "d74cc9f6-3b53-4413-8110-71fb78c96de0",
   "metadata": {},
   "outputs": [],
   "source": [
    "mse_list[-1]"
   ]
  },
  {
   "cell_type": "code",
   "execution_count": null,
   "id": "815448fb-adca-4000-a8aa-8308a9c6b01a",
   "metadata": {},
   "outputs": [],
   "source": [
    "y[1:]"
   ]
  },
  {
   "cell_type": "code",
   "execution_count": null,
   "id": "979d0a74-9d7a-448c-9d35-a6e74828d0e1",
   "metadata": {},
   "outputs": [],
   "source": [
    "y - y_pred_whole"
   ]
  },
  {
   "cell_type": "code",
   "execution_count": null,
   "id": "3ba641b2-587d-4365-af33-25ab7db37175",
   "metadata": {},
   "outputs": [],
   "source": [
    " np.mean(np.square(y - y_pred_whole))"
   ]
  },
  {
   "cell_type": "code",
   "execution_count": null,
   "id": "f2c147a7-2cbe-4062-b7cd-ad50f09a42ca",
   "metadata": {},
   "outputs": [],
   "source": [
    "y_pred_whole"
   ]
  },
  {
   "cell_type": "code",
   "execution_count": null,
   "id": "c31238f7-67e3-4b64-85da-cac8f31eae08",
   "metadata": {},
   "outputs": [],
   "source": [
    "# Predict on the test data\n",
    "y_pred_whole = nhl_nn_model.predict(X)\n",
    "y_pred_whole = np.reshape(y_pred_whole, (2467,))\n",
    "\n",
    "\n",
    "# Calculate mean squared error\n",
    "mse = MeanSquaredError(y, y_pred_whole)\n",
    "print(\"Mean Squared Error:\", mse)\n",
    "\n",
    "# Compute the root mean squared error (RMSE)\n",
    "rmse = np.sqrt(mse)\n",
    "print(\"Root Mean Squared Error (RMSE):\", rmse)"
   ]
  },
  {
   "cell_type": "code",
   "execution_count": null,
   "id": "97ab9507-0872-4aca-8e2a-add8fd891500",
   "metadata": {},
   "outputs": [],
   "source": []
  },
  {
   "cell_type": "code",
   "execution_count": null,
   "id": "b040e68a-892e-4897-8f43-bd2f04f1ad29",
   "metadata": {},
   "outputs": [],
   "source": []
  },
  {
   "cell_type": "code",
   "execution_count": null,
   "id": "daa45b74-cf75-4e63-9167-e8cce63adf0e",
   "metadata": {},
   "outputs": [],
   "source": []
  },
  {
   "cell_type": "code",
   "execution_count": null,
   "id": "a98cefe8-b3a6-4fe6-8fc9-78d13d6cdd4c",
   "metadata": {},
   "outputs": [],
   "source": []
  },
  {
   "cell_type": "code",
   "execution_count": null,
   "id": "b6af5861-97b6-4cc4-8604-41c91715b54f",
   "metadata": {},
   "outputs": [],
   "source": []
  },
  {
   "cell_type": "code",
   "execution_count": null,
   "id": "90f366c0-b0aa-4d89-b5f7-2fea74b63a57",
   "metadata": {},
   "outputs": [],
   "source": []
  },
  {
   "cell_type": "code",
   "execution_count": null,
   "id": "2cd252d3-2e73-46cd-b797-726d0e0f945c",
   "metadata": {},
   "outputs": [],
   "source": []
  },
  {
   "cell_type": "code",
   "execution_count": null,
   "id": "088f8422-046c-4e1d-9e87-994735cf751c",
   "metadata": {},
   "outputs": [],
   "source": []
  },
  {
   "cell_type": "code",
   "execution_count": null,
   "id": "5da42178-975c-4a92-925b-0985fa4071d6",
   "metadata": {},
   "outputs": [],
   "source": []
  },
  {
   "cell_type": "code",
   "execution_count": null,
   "id": "448f52ee-d11f-4e43-9b91-0df5992dca64",
   "metadata": {},
   "outputs": [],
   "source": []
  },
  {
   "cell_type": "code",
   "execution_count": null,
   "id": "9e456f1d-3516-4b8e-8e11-6ea1d3504a23",
   "metadata": {},
   "outputs": [],
   "source": []
  },
  {
   "cell_type": "code",
   "execution_count": null,
   "id": "8b263dae-ed6f-4ba8-95f1-8d905c3d4fed",
   "metadata": {},
   "outputs": [],
   "source": []
  },
  {
   "cell_type": "code",
   "execution_count": null,
   "id": "a4deecd2-16d3-4e6c-acf1-44d6414702f4",
   "metadata": {},
   "outputs": [],
   "source": []
  },
  {
   "cell_type": "code",
   "execution_count": null,
   "id": "839c01a5-9823-4c60-b2d3-21a36f2a2810",
   "metadata": {},
   "outputs": [],
   "source": []
  },
  {
   "cell_type": "code",
   "execution_count": null,
   "id": "1ee68bcb-cc25-41cc-bfa0-9050d9033eb0",
   "metadata": {},
   "outputs": [],
   "source": []
  },
  {
   "cell_type": "code",
   "execution_count": null,
   "id": "cbb50595-9044-4349-82cd-ff23d229e520",
   "metadata": {},
   "outputs": [],
   "source": []
  },
  {
   "cell_type": "code",
   "execution_count": null,
   "id": "275d1c1a-35b0-4765-868f-0bc0c80acc24",
   "metadata": {},
   "outputs": [],
   "source": []
  },
  {
   "cell_type": "code",
   "execution_count": null,
   "id": "b67c49ec-9417-421d-a99c-1dfd0e63f92c",
   "metadata": {},
   "outputs": [],
   "source": []
  },
  {
   "cell_type": "code",
   "execution_count": null,
   "id": "55177473-e8e2-44cf-ab77-d67e4ce17bd5",
   "metadata": {},
   "outputs": [],
   "source": []
  }
 ],
 "metadata": {
  "kernelspec": {
   "display_name": "deeplearning3",
   "language": "python",
   "name": "deeplearning3"
  },
  "language_info": {
   "codemirror_mode": {
    "name": "ipython",
    "version": 3
   },
   "file_extension": ".py",
   "mimetype": "text/x-python",
   "name": "python",
   "nbconvert_exporter": "python",
   "pygments_lexer": "ipython3",
   "version": "3.8.19"
  }
 },
 "nbformat": 4,
 "nbformat_minor": 5
}
