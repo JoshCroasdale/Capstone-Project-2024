{
 "cells": [
  {
   "cell_type": "code",
   "execution_count": 8,
   "id": "4810af33-a9b5-49b5-b1c4-b20ab364fa18",
   "metadata": {},
   "outputs": [],
   "source": [
    "choices = ['rock', 'paper', 'scissors']"
   ]
  },
  {
   "cell_type": "code",
   "execution_count": 7,
   "id": "bff0a202-c065-4199-93ab-307dc9df779d",
   "metadata": {},
   "outputs": [],
   "source": [
    "class Game():\n",
    "    def __init__(self, player_name = 'Player'):\n",
    "        self.player_score = 0\n",
    "        self.computer_score = 0\n",
    "        self.player_name = player_name\n",
    "        print(f'Welcome {self.player_name}. Starting Game!')\n",
    "        print('Use methods rock(), paper(), or scissors() to begin.')\n",
    "\n",
    "    def get_computer_choice(self):\n",
    "        import random\n",
    "        choice = ['rock', 'paper', 'scissors']\n",
    "        return random.choice(choices)\n",
    "    \n",
    "    def rock(self):\n",
    "        computer_choice = self.get_computer_choice()\n",
    "        if computer_choice == 'scissors':\n",
    "            self.player_score += 1\n",
    "            print(f'Computer chose {computer_choice}, you win!')\n",
    "        elif computer_choice == 'paper':\n",
    "            self.computer_score += 1\n",
    "            print(f'Computer chose {computer_choice}, you lose!')\n",
    "        else:\n",
    "            print(f'Computer chose {computer_choice}, its a tie!')\n",
    "            \n",
    "    def paper(self):\n",
    "        computer_choice = self.get_computer_choice()\n",
    "        if computer_choice == 'scissors':\n",
    "            self.computer_score += 1\n",
    "            print(f'Computer chose {computer_choice}, you lose!')\n",
    "        elif computer_choice == 'rock':\n",
    "            self.player_score += 1\n",
    "            print(f'Computer chose {computer_choice}, you win!')\n",
    "        else:\n",
    "            print(f'Computer chose {computer_choice}, its a tie!')\n",
    "            \n",
    "    def scissors(self):\n",
    "        computer_choice = self.get_computer_choice()\n",
    "        if computer_choice == 'rock':\n",
    "            self.computer_score += 1\n",
    "            print(f'Computer chose {computer_choice}, you lose!')\n",
    "        elif computer_choice == 'paper':\n",
    "            self.player_score += 1\n",
    "            print(f'Computer chose {computer_choice}, you win!')\n",
    "        else:\n",
    "            print(f'Computer chose {computer_choice}, its a tie!')\n",
    "\n",
    "    def scoreboard(self):\n",
    "        player_score = self.player_score\n",
    "        computer_score = self.computer_score\n",
    "        return f'Player: {self.player_name}: {player_score} and Computer: {computer_score}'\n",
    "\n",
    "    def newgame(self):\n",
    "        self.player_score = 0\n",
    "        self.computer_score = 0\n",
    "        return 'Scoreboard has been reset. New game started!'\n",
    "\n"
   ]
  },
  {
   "cell_type": "code",
   "execution_count": 19,
   "id": "3fa822f1-b0aa-4412-ac2f-d090c6e305b2",
   "metadata": {},
   "outputs": [
    {
     "name": "stdout",
     "output_type": "stream",
     "text": [
      "Welcome Josh. Starting Game!\n",
      "Use methods rock(), paper(), or scissors() to begin.\n"
     ]
    }
   ],
   "source": [
    "play = Game('Josh')\n"
   ]
  },
  {
   "cell_type": "code",
   "execution_count": 27,
   "id": "26d95973-e65a-45b5-afa5-db14a8e126e2",
   "metadata": {},
   "outputs": [
    {
     "name": "stdout",
     "output_type": "stream",
     "text": [
      "Computer chose paper, you lose!\n",
      "Computer chose paper, you win!\n"
     ]
    },
    {
     "data": {
      "text/plain": [
       "'Scoreboard has been reset. New game started!'"
      ]
     },
     "execution_count": 27,
     "metadata": {},
     "output_type": "execute_result"
    }
   ],
   "source": [
    "play.rock()\n",
    "play.scissors()\n",
    "play.scoreboard()\n",
    "play.newgame()"
   ]
  },
  {
   "cell_type": "code",
   "execution_count": null,
   "id": "b6670a11-fd4b-4654-93ef-362dd6a6202b",
   "metadata": {},
   "outputs": [],
   "source": []
  }
 ],
 "metadata": {
  "kernelspec": {
   "display_name": "Python 3 (ipykernel)",
   "language": "python",
   "name": "python3"
  },
  "language_info": {
   "codemirror_mode": {
    "name": "ipython",
    "version": 3
   },
   "file_extension": ".py",
   "mimetype": "text/x-python",
   "name": "python",
   "nbconvert_exporter": "python",
   "pygments_lexer": "ipython3",
   "version": "3.11.5"
  }
 },
 "nbformat": 4,
 "nbformat_minor": 5
}
