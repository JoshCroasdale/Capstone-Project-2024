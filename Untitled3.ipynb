{
 "cells": [
  {
   "cell_type": "code",
   "execution_count": 1,
   "id": "a5aa256c-7317-42ee-91ad-e04e0fbb750d",
   "metadata": {},
   "outputs": [],
   "source": [
    "import random"
   ]
  },
  {
   "cell_type": "code",
   "execution_count": 2,
   "id": "70faffe6-ef60-4c81-8cee-ecb271591209",
   "metadata": {},
   "outputs": [
    {
     "name": "stdout",
     "output_type": "stream",
     "text": [
      "\n",
      "Welcome to Rock, Paper, Scissors!\n",
      "Enter your choice (rock, paper, scissors) or 'quit' to end the game:\n"
     ]
    },
    {
     "name": "stdin",
     "output_type": "stream",
     "text": [
      " rock\n"
     ]
    },
    {
     "name": "stdout",
     "output_type": "stream",
     "text": [
      "You chose: rock\n",
      "Computer chose: rock\n",
      "It's a tie!\n",
      "\n",
      "Welcome to Rock, Paper, Scissors!\n",
      "Enter your choice (rock, paper, scissors) or 'quit' to end the game:\n"
     ]
    },
    {
     "name": "stdin",
     "output_type": "stream",
     "text": [
      " rock\n"
     ]
    },
    {
     "name": "stdout",
     "output_type": "stream",
     "text": [
      "You chose: rock\n",
      "Computer chose: scissors\n",
      "You win!\n",
      "\n",
      "Welcome to Rock, Paper, Scissors!\n",
      "Enter your choice (rock, paper, scissors) or 'quit' to end the game:\n"
     ]
    },
    {
     "name": "stdin",
     "output_type": "stream",
     "text": [
      " rock\n"
     ]
    },
    {
     "name": "stdout",
     "output_type": "stream",
     "text": [
      "You chose: rock\n",
      "Computer chose: paper\n",
      "Computer wins!\n",
      "\n",
      "Welcome to Rock, Paper, Scissors!\n",
      "Enter your choice (rock, paper, scissors) or 'quit' to end the game:\n"
     ]
    },
    {
     "name": "stdin",
     "output_type": "stream",
     "text": [
      " rock\n"
     ]
    },
    {
     "name": "stdout",
     "output_type": "stream",
     "text": [
      "You chose: rock\n",
      "Computer chose: paper\n",
      "Computer wins!\n",
      "\n",
      "Welcome to Rock, Paper, Scissors!\n",
      "Enter your choice (rock, paper, scissors) or 'quit' to end the game:\n"
     ]
    },
    {
     "name": "stdin",
     "output_type": "stream",
     "text": [
      " rock\n"
     ]
    },
    {
     "name": "stdout",
     "output_type": "stream",
     "text": [
      "You chose: rock\n",
      "Computer chose: rock\n",
      "It's a tie!\n",
      "\n",
      "Welcome to Rock, Paper, Scissors!\n",
      "Enter your choice (rock, paper, scissors) or 'quit' to end the game:\n"
     ]
    },
    {
     "name": "stdin",
     "output_type": "stream",
     "text": [
      " quit\n"
     ]
    },
    {
     "name": "stdout",
     "output_type": "stream",
     "text": [
      "Thanks for playing!\n"
     ]
    }
   ],
   "source": [
    "def play_game(player_choice):\n",
    "    choices = ['rock', 'paper', 'scissors']\n",
    "    computer_choice = random.choice(choices)\n",
    "\n",
    "    print(\"You chose:\", player_choice)\n",
    "    print(\"Computer chose:\", computer_choice)\n",
    "\n",
    "    if player_choice == computer_choice:\n",
    "        print(\"It's a tie!\")\n",
    "    elif (player_choice == 'rock' and computer_choice == 'scissors') or \\\n",
    "         (player_choice == 'paper' and computer_choice == 'rock') or \\\n",
    "         (player_choice == 'scissors' and computer_choice == 'paper'):\n",
    "        print(\"You win!\")\n",
    "    else:\n",
    "        print(\"Computer wins!\")\n",
    "\n",
    "# Main program loop\n",
    "while True:\n",
    "    print(\"\\nWelcome to Rock, Paper, Scissors!\")\n",
    "    print(\"Enter your choice (rock, paper, scissors) or 'quit' to end the game:\")\n",
    "    player_choice = input().lower()\n",
    "\n",
    "    if player_choice == 'quit':\n",
    "        print(\"Thanks for playing!\")\n",
    "        break\n",
    "    elif player_choice not in ['rock', 'paper', 'scissors']:\n",
    "        print(\"Invalid choice. Please choose again.\")\n",
    "        continue\n",
    "\n",
    "    play_game(player_choice)"
   ]
  },
  {
   "cell_type": "code",
   "execution_count": null,
   "id": "e93889e4-9ac0-4882-a386-7b8301d86df1",
   "metadata": {},
   "outputs": [],
   "source": []
  },
  {
   "cell_type": "code",
   "execution_count": null,
   "id": "27c5cac4-837d-4bec-acd3-2f96c2cb0a70",
   "metadata": {},
   "outputs": [],
   "source": []
  },
  {
   "cell_type": "code",
   "execution_count": null,
   "id": "7751d8fd-406c-481b-add6-657f7d092c63",
   "metadata": {},
   "outputs": [],
   "source": []
  }
 ],
 "metadata": {
  "kernelspec": {
   "display_name": "Python 3 (ipykernel)",
   "language": "python",
   "name": "python3"
  },
  "language_info": {
   "codemirror_mode": {
    "name": "ipython",
    "version": 3
   },
   "file_extension": ".py",
   "mimetype": "text/x-python",
   "name": "python",
   "nbconvert_exporter": "python",
   "pygments_lexer": "ipython3",
   "version": "3.11.5"
  }
 },
 "nbformat": 4,
 "nbformat_minor": 5
}
